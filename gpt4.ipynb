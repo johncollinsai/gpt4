{
 "cells": [
  {
   "attachments": {},
   "cell_type": "markdown",
   "id": "75874666-e3ac-4cc7-ac24-b38a97ef5f8a",
   "metadata": {
    "execution": {
     "iopub.execute_input": "2023-02-05T21:36:41.372727Z",
     "iopub.status.busy": "2023-02-05T21:36:41.372173Z",
     "iopub.status.idle": "2023-02-05T21:36:41.379077Z",
     "shell.execute_reply": "2023-02-05T21:36:41.377483Z",
     "shell.execute_reply.started": "2023-02-05T21:36:41.372688Z"
    }
   },
   "source": [
    "# GPT4 builds a website.  In seconds.  And it works."
   ]
  },
  {
   "attachments": {},
   "cell_type": "markdown",
   "id": "386c1731-7a29-43a4-8baf-71c9db62a787",
   "metadata": {},
   "source": [
    "OpenAI released GPT4 today, so this evening, while I'm waiting to join a call with the US, I took a deeper look.\n",
    "\n",
    "Wow!\n",
    "\n",
    "After looking at the presentation by Greg Brockman in the __[GPT-4 Developer Livestream](https://www.youtube.com/watch?v=outcGtbnMuQ)__, I asked GPT4 to create a small website, in this case not from a rough drawing as Greg does, but from an instruction typed into the ChatGPT-Plus UI, to see how well it works in practice.\n",
    "\n",
    "This is the __[website created by GPT4](https://johncollinsai-gpt4-website-voqqf4ls3a-as.a.run.app)__."
   ]
  },
  {
   "attachments": {},
   "cell_type": "markdown",
   "id": "69f473fb",
   "metadata": {},
   "source": [
    "Let's take a look at the process in more detail.  I go to __[ChatGPT-Plus](https://chat.openai.com/chat)__ and select the GPT4 model:"
   ]
  },
  {
   "attachments": {},
   "cell_type": "markdown",
   "id": "9bad7c2b",
   "metadata": {},
   "source": [
    "![Select GPT4 model](gpt4-0.png)"
   ]
  },
  {
   "attachments": {},
   "cell_type": "markdown",
   "id": "857af929",
   "metadata": {},
   "source": [
    "GPT4 prompting moves toward a much more structured format that gives the model the opportunity to understand that I am asking it to do something specific.  So you see that I am quite specific about what I want: A simple website, build using Flask, just a single page, with professional look and feel, for a new venture that I call \"GPT 4 builds a website\".  I also ask GPT4 to provide the code that is necessary to build and deploy and the website on GCP as a Cloud Run service. From concept to reality!"
   ]
  },
  {
   "attachments": {},
   "cell_type": "markdown",
   "id": "ae7a0df0",
   "metadata": {},
   "source": [
    "So how does GPT4 respond to this ask?"
   ]
  },
  {
   "attachments": {},
   "cell_type": "markdown",
   "id": "d43b9a45",
   "metadata": {},
   "source": [
    "GPT4 starts by providing a project structure:"
   ]
  },
  {
   "attachments": {},
   "cell_type": "markdown",
   "id": "08cb8ea4",
   "metadata": {},
   "source": [
    "![DESCRIBE](gpt4-1.png)"
   ]
  },
  {
   "attachments": {},
   "cell_type": "markdown",
   "id": "c834fe2b",
   "metadata": {},
   "source": [
    "Then it writes the Flask app:"
   ]
  },
  {
   "cell_type": "markdown",
   "id": "41a624d1",
   "metadata": {},
   "source": [
    "![DESCRIBE](gpt4-3.png)"
   ]
  },
  {
   "attachments": {},
   "cell_type": "markdown",
   "id": "1a6e78d3",
   "metadata": {},
   "source": [
    "And then the main page for our webapp, complete with a navbar and professional look and feel:"
   ]
  },
  {
   "cell_type": "markdown",
   "id": "a1151857",
   "metadata": {},
   "source": [
    "![DESCRIBE](gpt4-4.png)"
   ]
  },
  {
   "attachments": {},
   "cell_type": "markdown",
   "id": "ab3e4d1c",
   "metadata": {},
   "source": [
    "On to the deployment, GPT4 provides the Dockerfile.  Oops, misses EXPOSE 8080, which I added."
   ]
  },
  {
   "cell_type": "markdown",
   "id": "58e7afc9",
   "metadata": {},
   "source": [
    "![DESCRIBE](gpt4-5.png)"
   ]
  },
  {
   "attachments": {},
   "cell_type": "markdown",
   "id": "09b06a0b",
   "metadata": {},
   "source": [
    "And finally a step-by-step guide for the GCP Cloud Run deployment:"
   ]
  },
  {
   "cell_type": "markdown",
   "id": "8bd5a2b3",
   "metadata": {},
   "source": [
    "![DESCRIBE](gpt4-6.png)"
   ]
  },
  {
   "attachments": {},
   "cell_type": "markdown",
   "id": "a54cbba1",
   "metadata": {},
   "source": [
    "I take a couple of additional steps in the deployment, specifically I create a virtual environment to run the flask app, I use a boot shell script, and I push the dockerfile to an artefact registry repo and deploy to cloud run from there.  Otherwise its all done by GPT4."
   ]
  },
  {
   "attachments": {},
   "cell_type": "markdown",
   "id": "4e16dafc",
   "metadata": {},
   "source": [
    "And to close, here again is the __[website created by GPT4](https://johncollinsai-gpt4-website-voqqf4ls3a-as.a.run.app)__."
   ]
  },
  {
   "attachments": {},
   "cell_type": "markdown",
   "id": "4758140e",
   "metadata": {},
   "source": [
    "Wow!"
   ]
  },
  {
   "attachments": {},
   "cell_type": "markdown",
   "id": "23ec0a89",
   "metadata": {},
   "source": [
    "# Set up"
   ]
  },
  {
   "attachments": {},
   "cell_type": "markdown",
   "id": "7f64ef23",
   "metadata": {},
   "source": [
    "I use an NVIDIA GeForce RTX 3080 Ti Laptop running Ubuntu 22.04 LTS.  I deploy the __[website created by GPT4](https://johncollinsai-gpt4-website-voqqf4ls3a-as.a.run.app)__ on GCP as a Cloud Run service. Source code as always may be found on __[my GitHub](https://github.com/johncollinsai)__."
   ]
  },
  {
   "cell_type": "markdown",
   "id": "ea89cde2-ec75-4b03-8ea5-2542d4c8427d",
   "metadata": {},
   "source": [
    "# References"
   ]
  },
  {
   "attachments": {},
   "cell_type": "markdown",
   "id": "7f9d0cd3",
   "metadata": {},
   "source": [
    "__[ChatGPT-Plus](https://chat.openai.com/chat)__"
   ]
  },
  {
   "attachments": {},
   "cell_type": "markdown",
   "id": "9bc668cf-bc7f-4d43-a6de-690a28cb9897",
   "metadata": {},
   "source": [
    "__[GPT-4 Developer Livestream](https://www.youtube.com/watch?v=outcGtbnMuQ)__"
   ]
  },
  {
   "cell_type": "markdown",
   "id": "04df5bcd-28f1-4d99-b7f8-f6685edc947c",
   "metadata": {
    "execution": {
     "iopub.execute_input": "2023-02-09T04:06:52.202330Z",
     "iopub.status.busy": "2023-02-09T04:06:52.202069Z",
     "iopub.status.idle": "2023-02-09T04:06:52.355032Z",
     "shell.execute_reply": "2023-02-09T04:06:52.354010Z",
     "shell.execute_reply.started": "2023-02-09T04:06:52.202312Z"
    }
   },
   "source": [
    "***\n",
    "END"
   ]
  }
 ],
 "metadata": {
  "kernelspec": {
   "display_name": "Python 3 (ipykernel)",
   "language": "python",
   "name": "python3"
  },
  "language_info": {
   "codemirror_mode": {
    "name": "ipython",
    "version": 3
   },
   "file_extension": ".py",
   "mimetype": "text/x-python",
   "name": "python",
   "nbconvert_exporter": "python",
   "pygments_lexer": "ipython3",
   "version": "3.10.6"
  },
  "vscode": {
   "interpreter": {
    "hash": "e7370f93d1d0cde622a1f8e1c04877d8463912d04d973331ad4851f04de6915a"
   }
  }
 },
 "nbformat": 4,
 "nbformat_minor": 5
}
